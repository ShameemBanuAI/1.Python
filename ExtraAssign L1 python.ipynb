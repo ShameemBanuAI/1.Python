{
 "cells": [
  {
   "cell_type": "code",
   "execution_count": null,
   "id": "27ef237a",
   "metadata": {},
   "outputs": [],
   "source": [
    "#Print Statement"
   ]
  },
  {
   "cell_type": "code",
   "execution_count": 7,
   "id": "cdd04005",
   "metadata": {},
   "outputs": [
    {
     "name": "stdout",
     "output_type": "stream",
     "text": [
      "Hope AI\n"
     ]
    }
   ],
   "source": [
    "print(\"Hope AI\")"
   ]
  },
  {
   "cell_type": "code",
   "execution_count": null,
   "id": "17a7e6c3",
   "metadata": {},
   "outputs": [],
   "source": [
    "# Buy Input"
   ]
  },
  {
   "cell_type": "code",
   "execution_count": 6,
   "id": "71cffd94",
   "metadata": {},
   "outputs": [
    {
     "name": "stdout",
     "output_type": "stream",
     "text": [
      "Enter the institution name : Hope AI\n"
     ]
    }
   ],
   "source": [
    "instiName=input(\"Enter the institution name : \")\n"
   ]
  },
  {
   "cell_type": "code",
   "execution_count": null,
   "id": "365d8b79",
   "metadata": {},
   "outputs": [],
   "source": [
    "# Buy inputs"
   ]
  },
  {
   "cell_type": "code",
   "execution_count": 5,
   "id": "81c370ea",
   "metadata": {},
   "outputs": [
    {
     "name": "stdout",
     "output_type": "stream",
     "text": [
      "Enter your Name : Banu\n",
      "Enter your age : 29\n",
      "Enter your School Name : KAPV\n",
      "Enter your degree : MCA\n"
     ]
    }
   ],
   "source": [
    "name=input(\"Enter your Name : \")\n",
    "age=int(input(\"Enter your age : \"))\n",
    "schName=input(\"Enter your School Name : \")\n",
    "degree=input(\"Enter your degree : \")"
   ]
  },
  {
   "cell_type": "code",
   "execution_count": 8,
   "id": "e91fb843",
   "metadata": {},
   "outputs": [
    {
     "name": "stdout",
     "output_type": "stream",
     "text": [
      "a =  23\n",
      "b =  34\n",
      "Add =  57\n"
     ]
    }
   ],
   "source": [
    "#Addition\n",
    "a=23\n",
    "b=34\n",
    "add=a+b\n",
    "print(\"a = \",a)\n",
    "print(\"b = \",b)\n",
    "print(\"Add = \",add)"
   ]
  },
  {
   "cell_type": "code",
   "execution_count": 11,
   "id": "ad2098fe",
   "metadata": {},
   "outputs": [
    {
     "name": "stdout",
     "output_type": "stream",
     "text": [
      "a =  43\n",
      "b =  34\n",
      "Sub =   9\n"
     ]
    }
   ],
   "source": [
    "#Subtraction\n",
    "a=43 \n",
    "b=34 \n",
    "sub=a-b\n",
    "print(\"a = \",a)\n",
    "print(\"b = \",b)\n",
    "print(\"Sub =  \",sub)"
   ]
  },
  {
   "cell_type": "code",
   "execution_count": 12,
   "id": "212cbe2a",
   "metadata": {},
   "outputs": [
    {
     "name": "stdout",
     "output_type": "stream",
     "text": [
      "a =  63\n",
      "b =  97\n",
      "Mul =  6111\n"
     ]
    }
   ],
   "source": [
    "#Multiplication\n",
    "a=63\n",
    "b=97\n",
    "mul=a*b\n",
    "print(\"a = \",a)\n",
    "print(\"b = \",b)\n",
    "print(\"Mul = \",mul)"
   ]
  },
  {
   "cell_type": "code",
   "execution_count": 16,
   "id": "c02131fa",
   "metadata": {},
   "outputs": [
    {
     "name": "stdout",
     "output_type": "stream",
     "text": [
      "a =  76\n",
      "b =  31\n",
      "Float Division =  2.4516129032258065\n"
     ]
    }
   ],
   "source": [
    "#Division\n",
    "a=76\n",
    "b=31\n",
    "div=a/b\n",
    "print(\"a = \",a)\n",
    "print(\"b = \",b)\n",
    "print(\"Float Division = \",div)"
   ]
  },
  {
   "cell_type": "code",
   "execution_count": 18,
   "id": "bb30fd40",
   "metadata": {},
   "outputs": [
    {
     "name": "stdout",
     "output_type": "stream",
     "text": [
      "a =  76\n",
      "b =  31\n",
      "Floor Division =  2\n"
     ]
    }
   ],
   "source": [
    "#Floor Division\n",
    "a=76\n",
    "b=31\n",
    "floorDiv=a//b\n",
    "print(\"a = \",a)\n",
    "print(\"b = \",b)\n",
    "print(\"Floor Division = \",div)"
   ]
  },
  {
   "cell_type": "code",
   "execution_count": 19,
   "id": "3908ba60",
   "metadata": {},
   "outputs": [
    {
     "name": "stdout",
     "output_type": "stream",
     "text": [
      "a =  76\n",
      "b =  31\n",
      "Modulo=  14\n"
     ]
    }
   ],
   "source": [
    "#Modulo\n",
    "a=76\n",
    "b=31\n",
    "mod=a%b\n",
    "print(\"a = \",a)\n",
    "print(\"b = \",b)\n",
    "print(\"Modulo= \",mod)"
   ]
  },
  {
   "cell_type": "code",
   "execution_count": 20,
   "id": "8fd7380c",
   "metadata": {},
   "outputs": [
    {
     "name": "stdout",
     "output_type": "stream",
     "text": [
      "a =  4\n",
      "b =  4\n",
      "Power =  256\n"
     ]
    }
   ],
   "source": [
    "#Power\n",
    "a=4\n",
    "b=4\n",
    "power=4**4\n",
    "print(\"a = \",a)\n",
    "print(\"b = \",b)\n",
    "print(\"Power = \",power)"
   ]
  },
  {
   "cell_type": "code",
   "execution_count": null,
   "id": "3ca8dc05",
   "metadata": {},
   "outputs": [],
   "source": []
  }
 ],
 "metadata": {
  "kernelspec": {
   "display_name": "Python 3 (ipykernel)",
   "language": "python",
   "name": "python3"
  },
  "language_info": {
   "codemirror_mode": {
    "name": "ipython",
    "version": 3
   },
   "file_extension": ".py",
   "mimetype": "text/x-python",
   "name": "python",
   "nbconvert_exporter": "python",
   "pygments_lexer": "ipython3",
   "version": "3.10.9"
  }
 },
 "nbformat": 4,
 "nbformat_minor": 5
}
