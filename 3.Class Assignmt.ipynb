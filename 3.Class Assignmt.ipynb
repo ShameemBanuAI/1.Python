{
 "cells": [
  {
   "cell_type": "code",
   "execution_count": 1,
   "id": "e069e04a",
   "metadata": {},
   "outputs": [],
   "source": [
    "class multifunctions():\n",
    "    def subfields():\n",
    "        lists=('Neural networks','Vision','Robotics','Speech Recognition','Natural language processing')\n",
    "        print (\"Sub-fields in AI are : \")\n",
    "        for subfields in lists:\n",
    "            print(subfields)\n",
    "            \n",
    "    def eligible():\n",
    "        gender=input(\"Enter your gender : \")\n",
    "        age=int(input(\"Enter your age : \"))\n",
    "        if(gender=='male'):\n",
    "\n",
    "            if(age>=21):\n",
    "                print(\"Your are eligible for marriage\")\n",
    "                agevar='Your are eligible for marriage'\n",
    "            else:\n",
    "                print(\"Your are not eligible for marriage\")\n",
    "                agevar='Your are not eligible for marriage'\n",
    "        else:\n",
    "            if(age>=18):\n",
    "                print(\"Your are eligible for marriage\")\n",
    "                agevar='Your are eligible for marriage'\n",
    "            else:\n",
    "                print(\"Your are not eligible for marriage\")\n",
    "                agevar='Your are not eligible for marriage'\n",
    "\n",
    "                return agevar        \n",
    "        \n",
    "        \n",
    "        \n",
    "    def triangle():\n",
    "        length=int(input(\"Length : \"))\n",
    "        height=int(input(\"Height : \"))\n",
    "        breath=int(input(\"Breath : \"))\n",
    "        area=(height*breath)/2\n",
    "        print(\"Area Formula : (Height*breath)/2\")\n",
    "        print(\"Area of trianlge : \",area)\n",
    "        perimeter=length*breath*height\n",
    "        print(\"Perimeter formula :length*breath*height\")\n",
    "        print (\"Perimeter of triangle : \",perimeter)\n",
    "        return perimeter\n",
    "\n",
    "    def percentage():\n",
    "        tam=int(input(\"Enter tamil mark : \"))\n",
    "        eng=int(input(\"Enter english mark : \"))\n",
    "        mat=int(input(\"Enter maths mark : \"))\n",
    "        sci=int(input(\"Enter science mark : \"))\n",
    "        soc=int(input(\"Enter social mark : \"))\n",
    "        tot=tam+eng+mat+sci+soc\n",
    "        per=tot/5\n",
    "        print(\"Your total marks : \",tot)\n",
    "        print(\"Your percentage : \",per)\n",
    "        return per\n",
    "    \n",
    "    def oddeven():\n",
    "        num=int(input(\"Enter the number :\"))\n",
    "        if((num%2)==0):\n",
    "            print(num, \" is even\")\n",
    "        else:\n",
    "            print(num, \"is odd\")\n",
    "        return num \n"
   ]
  },
  {
   "cell_type": "code",
   "execution_count": 3,
   "id": "69308f57",
   "metadata": {},
   "outputs": [
    {
     "name": "stdout",
     "output_type": "stream",
     "text": [
      "Enter the number :6\n",
      "6  is even\n"
     ]
    }
   ],
   "source": [
    " result=multifunctions.oddeven()\n"
   ]
  },
  {
   "cell_type": "code",
   "execution_count": 4,
   "id": "3ea56e83",
   "metadata": {},
   "outputs": [
    {
     "name": "stdout",
     "output_type": "stream",
     "text": [
      "Length : 5\n",
      "Height : 3\n",
      "Breath : 6\n",
      "Area Formula : (Height*breath)/2\n",
      "Area of trianlge :  9.0\n",
      "Perimeter formula :length*breath*height\n",
      "Perimeter of triangle :  90\n"
     ]
    }
   ],
   "source": [
    "result1=multifunctions.triangle()\n"
   ]
  },
  {
   "cell_type": "code",
   "execution_count": 7,
   "id": "f86ecbb7",
   "metadata": {},
   "outputs": [
    {
     "name": "stdout",
     "output_type": "stream",
     "text": [
      "Enter tamil mark : 99\n",
      "Enter english mark : 100\n",
      "Enter maths mark : 100\n",
      "Enter science mark : 99\n",
      "Enter social mark : 100\n",
      "Your total marks :  498\n",
      "Your percentage :  99.6\n"
     ]
    }
   ],
   "source": [
    "result2=multifunctions.percentage()\n"
   ]
  },
  {
   "cell_type": "code",
   "execution_count": 3,
   "id": "372bafc9",
   "metadata": {},
   "outputs": [
    {
     "name": "stdout",
     "output_type": "stream",
     "text": [
      "Sub-fields in AI are : \n",
      "Neural networks\n",
      "Vision\n",
      "Robotics\n",
      "Speech Recognition\n",
      "Natural language processing\n"
     ]
    }
   ],
   "source": [
    "result3=multifunctions.subfields()"
   ]
  },
  {
   "cell_type": "code",
   "execution_count": 4,
   "id": "b5b665c0",
   "metadata": {},
   "outputs": [
    {
     "name": "stdout",
     "output_type": "stream",
     "text": [
      "Enter your gender : female\n",
      "Enter your age : 19\n",
      "Your are eligible for marriage\n"
     ]
    }
   ],
   "source": [
    "result4=multifunctions.eligible()"
   ]
  },
  {
   "cell_type": "code",
   "execution_count": null,
   "id": "150f1249",
   "metadata": {},
   "outputs": [],
   "source": []
  }
 ],
 "metadata": {
  "kernelspec": {
   "display_name": "Python 3 (ipykernel)",
   "language": "python",
   "name": "python3"
  },
  "language_info": {
   "codemirror_mode": {
    "name": "ipython",
    "version": 3
   },
   "file_extension": ".py",
   "mimetype": "text/x-python",
   "name": "python",
   "nbconvert_exporter": "python",
   "pygments_lexer": "ipython3",
   "version": "3.10.9"
  }
 },
 "nbformat": 4,
 "nbformat_minor": 5
}
