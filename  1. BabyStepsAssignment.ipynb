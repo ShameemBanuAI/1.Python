{
 "cells": [
  {
   "cell_type": "code",
   "execution_count": 3,
   "id": "7eb4fd5e",
   "metadata": {},
   "outputs": [
    {
     "name": "stdout",
     "output_type": "stream",
     "text": [
      "Welcome to Assignment-1\n"
     ]
    }
   ],
   "source": [
    " print(\"Welcome to Assignment-1\")"
   ]
  },
  {
   "cell_type": "code",
   "execution_count": 4,
   "id": "f5b13745",
   "metadata": {},
   "outputs": [
    {
     "name": "stdout",
     "output_type": "stream",
     "text": [
      "Num1 =  10\n",
      "Num2 =  30\n",
      "Add =  40\n"
     ]
    }
   ],
   "source": [
    "num1=10\n",
    "num2=30\n",
    "add=num1+num2\n",
    "print(\"Num1 = \",num1)\n",
    "print(\"Num2 = \",num2)\n",
    "print(\"Add = \",add)"
   ]
  },
  {
   "cell_type": "code",
   "execution_count": 5,
   "id": "58d9854a",
   "metadata": {},
   "outputs": [],
   "source": [
    "#Body Mass Index"
   ]
  },
  {
   "cell_type": "code",
   "execution_count": 12,
   "id": "1f904589",
   "metadata": {},
   "outputs": [
    {
     "name": "stdout",
     "output_type": "stream",
     "text": [
      "Enter the BMI Index : 34\n",
      "Obese\n"
     ]
    }
   ],
   "source": [
    "bmi=int(input(\"Enter the BMI Index : \"))\n",
    "if(bmi<=18):\n",
    "    print(\"Under Weight\")\n",
    "elif(bmi<=25):\n",
    "    print(\"Healthy Weight\")\n",
    "elif(bmi<=30):\n",
    "    print(\"Over Weight\")\n",
    "elif(bmi<=35):\n",
    "    print(\"Obese\")\n",
    "elif(bmi<40):\n",
    "    print(\"Severly Obese\")\n",
    "else:\n",
    "    print(\"Morbidly Obese\")\n"
   ]
  },
  {
   "cell_type": "code",
   "execution_count": null,
   "id": "93055311",
   "metadata": {},
   "outputs": [],
   "source": []
  }
 ],
 "metadata": {
  "kernelspec": {
   "display_name": "Python 3 (ipykernel)",
   "language": "python",
   "name": "python3"
  },
  "language_info": {
   "codemirror_mode": {
    "name": "ipython",
    "version": 3
   },
   "file_extension": ".py",
   "mimetype": "text/x-python",
   "name": "python",
   "nbconvert_exporter": "python",
   "pygments_lexer": "ipython3",
   "version": "3.10.9"
  }
 },
 "nbformat": 4,
 "nbformat_minor": 5
}
