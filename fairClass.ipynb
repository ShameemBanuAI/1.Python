{
 "cells": [
  {
   "cell_type": "code",
   "execution_count": 1,
   "id": "8efa0d11",
   "metadata": {},
   "outputs": [],
   "source": [
    "from multiLib import multifunctions"
   ]
  },
  {
   "cell_type": "code",
   "execution_count": 2,
   "id": "98d7a02d",
   "metadata": {},
   "outputs": [
    {
     "name": "stdout",
     "output_type": "stream",
     "text": [
      "Sub-fields in AI are : \n",
      "Neural networks\n",
      "Vision\n",
      "Robotics\n",
      "Speech Recognition\n",
      "Natural language processing\n"
     ]
    }
   ],
   "source": [
    "multifunctions.subfields()\n"
   ]
  },
  {
   "cell_type": "code",
   "execution_count": 3,
   "id": "f63a13fb",
   "metadata": {},
   "outputs": [
    {
     "name": "stdout",
     "output_type": "stream",
     "text": [
      "Enter the number :8\n",
      "8  is even\n"
     ]
    },
    {
     "data": {
      "text/plain": [
       "8"
      ]
     },
     "execution_count": 3,
     "metadata": {},
     "output_type": "execute_result"
    }
   ],
   "source": [
    "multifunctions.oddeven()"
   ]
  },
  {
   "cell_type": "code",
   "execution_count": 4,
   "id": "4dc04d4f",
   "metadata": {},
   "outputs": [
    {
     "name": "stdout",
     "output_type": "stream",
     "text": [
      "Length : 5\n",
      "Height : 6\n",
      "Breath : 7\n",
      "Area Formula : (Height*breath)/2\n",
      "Area of trianlge :  21.0\n",
      "Perimeter formula :length*breath*height\n",
      "Perimeter of triangle :  210\n"
     ]
    },
    {
     "data": {
      "text/plain": [
       "210"
      ]
     },
     "execution_count": 4,
     "metadata": {},
     "output_type": "execute_result"
    }
   ],
   "source": [
    "multifunctions.triangle()\n"
   ]
  },
  {
   "cell_type": "markdown",
   "id": "c6ee7c55",
   "metadata": {},
   "source": []
  },
  {
   "cell_type": "code",
   "execution_count": 6,
   "id": "3e735a6d",
   "metadata": {},
   "outputs": [
    {
     "name": "stdout",
     "output_type": "stream",
     "text": [
      "Enter tamil mark : 76\n",
      "Enter english mark : 76\n",
      "Enter maths mark : 76\n",
      "Enter science mark : 76\n",
      "Enter social mark : 76\n",
      "Your total marks :  380\n",
      "Your percentage :  76.0\n"
     ]
    },
    {
     "data": {
      "text/plain": [
       "76.0"
      ]
     },
     "execution_count": 6,
     "metadata": {},
     "output_type": "execute_result"
    }
   ],
   "source": [
    "multifunctions.percentage()\n"
   ]
  },
  {
   "cell_type": "code",
   "execution_count": 7,
   "id": "17fe40c9",
   "metadata": {},
   "outputs": [
    {
     "name": "stdout",
     "output_type": "stream",
     "text": [
      "Enter your gender : male\n",
      "Enter your age : 32\n",
      "Your are eligible for marriage\n"
     ]
    }
   ],
   "source": [
    "multifunctions.eligible()"
   ]
  },
  {
   "cell_type": "code",
   "execution_count": 8,
   "id": "05c61b09",
   "metadata": {},
   "outputs": [
    {
     "name": "stdout",
     "output_type": "stream",
     "text": [
      "Enter your gender : Male\n",
      "Enter your age : 32\n",
      "Your are eligible for marriage\n"
     ]
    }
   ],
   "source": [
    "multifunctions.eligible()"
   ]
  },
  {
   "cell_type": "code",
   "execution_count": null,
   "id": "a7b23ecc",
   "metadata": {},
   "outputs": [],
   "source": []
  }
 ],
 "metadata": {
  "kernelspec": {
   "display_name": "Python 3 (ipykernel)",
   "language": "python",
   "name": "python3"
  },
  "language_info": {
   "codemirror_mode": {
    "name": "ipython",
    "version": 3
   },
   "file_extension": ".py",
   "mimetype": "text/x-python",
   "name": "python",
   "nbconvert_exporter": "python",
   "pygments_lexer": "ipython3",
   "version": "3.10.9"
  }
 },
 "nbformat": 4,
 "nbformat_minor": 5
}
