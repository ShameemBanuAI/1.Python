{
 "cells": [
  {
   "cell_type": "code",
   "execution_count": 1,
   "id": "92dcf20d",
   "metadata": {},
   "outputs": [
    {
     "name": "stdout",
     "output_type": "stream",
     "text": [
      "Value :  10\n",
      "Correct\n"
     ]
    }
   ],
   "source": [
    "# Print 'Correct' if==10\n",
    "value=10\n",
    "print(\"Value : \",value)\n",
    "if(value==10):\n",
    "    print(\"Correct\")"
   ]
  },
  {
   "cell_type": "code",
   "execution_count": 6,
   "id": "23ca426c",
   "metadata": {},
   "outputs": [
    {
     "name": "stdout",
     "output_type": "stream",
     "text": [
      "Enter the Password : HOPE@123\n",
      "Your passwrod is correct\n"
     ]
    }
   ],
   "source": [
    "# Check the password using if and else\n",
    "pwd=input(\"Enter the Password : \")\n",
    "if (pwd=='HOPE@123'):\n",
    "    print(\"Your passwrod is correct\")    \n",
    "else:\n",
    "        print(\"Your password is incorrect\")"
   ]
  },
  {
   "cell_type": "code",
   "execution_count": 16,
   "id": "e22fddb0",
   "metadata": {},
   "outputs": [
    {
     "name": "stdout",
     "output_type": "stream",
     "text": [
      "Enter the age : 20\n",
      "Adult\n"
     ]
    }
   ],
   "source": [
    "# Category the people age\n",
    "age=int(input(\"Enter the age : \"))\n",
    "if (age<=18):\n",
    "    print(\"Children\")\n",
    "elif(age<=45):\n",
    "    print(\"Adult\")\n",
    "elif(age<=59):\n",
    "    print(\"Citizen\")\n",
    "else:\n",
    "    print(\"Senior Citizen\")\n",
    "    \n",
    "    \n",
    "    \n",
    "    \n",
    "    \n",
    "    "
   ]
  },
  {
   "cell_type": "code",
   "execution_count": 21,
   "id": "fa1bed98",
   "metadata": {},
   "outputs": [
    {
     "name": "stdout",
     "output_type": "stream",
     "text": [
      "Enter the number : -2\n",
      "The number is negative\n"
     ]
    }
   ],
   "source": [
    "# Find the number is positive\n",
    "num=int(input(\"Enter the number : \"))\n",
    "if (num>0):\n",
    "    print(\"The number is positive\")\n",
    "else:\n",
    "    print(\"The number is negative\")"
   ]
  },
  {
   "cell_type": "code",
   "execution_count": 22,
   "id": "521c7fde",
   "metadata": {},
   "outputs": [
    {
     "name": "stdout",
     "output_type": "stream",
     "text": [
      "Enter the number to check : 35\n",
      "The number is divisible by 5\n"
     ]
    }
   ],
   "source": [
    "# Chech whether the number is divisible by 5\n",
    "num=int(input(\"Enter the number to check : \"))\n",
    "if ((num%5)==0):\n",
    "    print(\"The number is divisible by 5\")\n",
    "else:\n",
    "    print(\"The number is divisible by 5\")\n"
   ]
  },
  {
   "cell_type": "code",
   "execution_count": null,
   "id": "d1c61e5c",
   "metadata": {},
   "outputs": [],
   "source": []
  }
 ],
 "metadata": {
  "kernelspec": {
   "display_name": "Python 3 (ipykernel)",
   "language": "python",
   "name": "python3"
  },
  "language_info": {
   "codemirror_mode": {
    "name": "ipython",
    "version": 3
   },
   "file_extension": ".py",
   "mimetype": "text/x-python",
   "name": "python",
   "nbconvert_exporter": "python",
   "pygments_lexer": "ipython3",
   "version": "3.10.9"
  }
 },
 "nbformat": 4,
 "nbformat_minor": 5
}
