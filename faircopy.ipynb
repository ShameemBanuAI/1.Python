{
 "cells": [
  {
   "cell_type": "code",
   "execution_count": 2,
   "id": "8d8b128c",
   "metadata": {},
   "outputs": [
    {
     "ename": "ImportError",
     "evalue": "cannot import name 'multifunctions' from 'multiLibrary' (D:\\Shameem AI\\Assignment\\multiLibrary.py)",
     "output_type": "error",
     "traceback": [
      "\u001b[1;31m---------------------------------------------------------------------------\u001b[0m",
      "\u001b[1;31mImportError\u001b[0m                               Traceback (most recent call last)",
      "Cell \u001b[1;32mIn[2], line 1\u001b[0m\n\u001b[1;32m----> 1\u001b[0m \u001b[38;5;28;01mfrom\u001b[39;00m \u001b[38;5;21;01mmultiLibrary\u001b[39;00m \u001b[38;5;28;01mimport\u001b[39;00m multifunctions\n",
      "\u001b[1;31mImportError\u001b[0m: cannot import name 'multifunctions' from 'multiLibrary' (D:\\Shameem AI\\Assignment\\multiLibrary.py)"
     ]
    }
   ],
   "source": [
    "from multiLibrary import multifunctions"
   ]
  },
  {
   "cell_type": "code",
   "execution_count": 3,
   "id": "6726da97",
   "metadata": {},
   "outputs": [
    {
     "ename": "ImportError",
     "evalue": "cannot import name 'multifunctions' from 'multifunctions' (D:\\Shameem AI\\Assignment\\multifunctions.py)",
     "output_type": "error",
     "traceback": [
      "\u001b[1;31m---------------------------------------------------------------------------\u001b[0m",
      "\u001b[1;31mImportError\u001b[0m                               Traceback (most recent call last)",
      "Cell \u001b[1;32mIn[3], line 1\u001b[0m\n\u001b[1;32m----> 1\u001b[0m \u001b[38;5;28;01mfrom\u001b[39;00m \u001b[38;5;21;01mmultifunctions\u001b[39;00m \u001b[38;5;28;01mimport\u001b[39;00m multifunctions\n",
      "\u001b[1;31mImportError\u001b[0m: cannot import name 'multifunctions' from 'multifunctions' (D:\\Shameem AI\\Assignment\\multifunctions.py)"
     ]
    }
   ],
   "source": [
    "from multifunctions import multifunctions"
   ]
  },
  {
   "cell_type": "code",
   "execution_count": null,
   "id": "465b7ba6",
   "metadata": {},
   "outputs": [],
   "source": []
  }
 ],
 "metadata": {
  "kernelspec": {
   "display_name": "Python 3 (ipykernel)",
   "language": "python",
   "name": "python3"
  },
  "language_info": {
   "codemirror_mode": {
    "name": "ipython",
    "version": 3
   },
   "file_extension": ".py",
   "mimetype": "text/x-python",
   "name": "python",
   "nbconvert_exporter": "python",
   "pygments_lexer": "ipython3",
   "version": "3.10.9"
  }
 },
 "nbformat": 4,
 "nbformat_minor": 5
}
