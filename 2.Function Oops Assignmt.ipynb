{
 "cells": [
  {
   "cell_type": "code",
   "execution_count": 7,
   "id": "0f9d6008",
   "metadata": {},
   "outputs": [
    {
     "name": "stdout",
     "output_type": "stream",
     "text": [
      "Enter the fieldai\n",
      "Sub-fields in AI are :\n",
      "Neural Networks\n",
      "Vision\n",
      "Robotics\n",
      "Speech Processing\n",
      "Natural Language Processing\n"
     ]
    }
   ],
   "source": [
    "def Subfields():\n",
    "    field=input(\"Enter the field :   \")\n",
    "    if(field==\"AI\"or field==\"Artificial Intelligence\"or field==\"ai\"):\n",
    "        print(\"Sub-fields in AI are :\")\n",
    "        print(\"Neural Networks\")\n",
    "        print(\"Vision\")\n",
    "        print(\"Robotics\")\n",
    "        print(\"Speech Processing\")\n",
    "    print(\"Natural Language Processing\")\n",
    "   \n",
    "Subfields()"
   ]
  },
  {
   "cell_type": "code",
   "execution_count": 5,
   "id": "b88182d3",
   "metadata": {},
   "outputs": [],
   "source": [
    "# Create Function"
   ]
  },
  {
   "cell_type": "code",
   "execution_count": 3,
   "id": "ad098f4f",
   "metadata": {},
   "outputs": [],
   "source": [
    "def Subfields():\n",
    "    field=input(\"Enter the field :   \")\n",
    "    if(field==\"AI\"or field==\"Artificial Intelligence\"or field==\"ai\"):\n",
    "        print(\"Sub-fields in AI are : \\n Machine Learning \\n Neural networks \\n Vision \\n Robotics \\n Speech recognition \\n Natural Language Processing \")"
   ]
  },
  {
   "cell_type": "code",
   "execution_count": 4,
   "id": "cd68b07c",
   "metadata": {},
   "outputs": [
    {
     "name": "stdout",
     "output_type": "stream",
     "text": [
      "Enter the field :   AI\n",
      "Sub-fields in AI are : \n",
      " Machine Learning \n",
      " Neural networks \n",
      " Vision \n",
      " Robotics \n",
      " Speech recognition \n",
      " Natural Language Processing \n"
     ]
    }
   ],
   "source": [
    "Subfields()"
   ]
  },
  {
   "cell_type": "code",
   "execution_count": 6,
   "id": "fcf134b3",
   "metadata": {},
   "outputs": [],
   "source": [
    " # Create a function for odd or even\n",
    "    "
   ]
  },
  {
   "cell_type": "markdown",
   "id": "9a23f7e1",
   "metadata": {},
   "source": [
    "oddEven()"
   ]
  },
  {
   "cell_type": "code",
   "execution_count": 3,
   "id": "dbd2eed0",
   "metadata": {},
   "outputs": [],
   "source": [
    "def oddeven():\n",
    "    num=int(input(\"Enter the number :\"))\n",
    "    if((num%2)==0):\n",
    "        print(num, \" is even\")\n",
    "    else:\n",
    "        print(num, \"is odd\")\n",
    "    return num \n",
    "\n"
   ]
  },
  {
   "cell_type": "code",
   "execution_count": 4,
   "id": "bbee6888",
   "metadata": {},
   "outputs": [
    {
     "name": "stdout",
     "output_type": "stream",
     "text": [
      "Enter the number :3\n",
      "3 is odd\n"
     ]
    },
    {
     "data": {
      "text/plain": [
       "3"
      ]
     },
     "execution_count": 4,
     "metadata": {},
     "output_type": "execute_result"
    }
   ],
   "source": [
    "oddeven()"
   ]
  },
  {
   "cell_type": "code",
   "execution_count": 33,
   "id": "9f5ec2b7",
   "metadata": {},
   "outputs": [],
   "source": [
    "# Create function marriage eligible"
   ]
  },
  {
   "cell_type": "code",
   "execution_count": null,
   "id": "d3b53f82",
   "metadata": {},
   "outputs": [],
   "source": [
    "# Eligible() "
   ]
  },
  {
   "cell_type": "code",
   "execution_count": 9,
   "id": "c0cdd47e",
   "metadata": {},
   "outputs": [],
   "source": [
    "\n",
    "def eligible():\n",
    "    gender=input(\"Enter your gender : \")\n",
    "    age=int(input(\"Enter your age : \"))\n",
    "    if(gender=='male'):\n",
    "\n",
    "        if(age>=21):\n",
    "            print(\"Your are eligible for marriage\")\n",
    "            agevar='Your are eligible for marriage'\n",
    "        else:\n",
    "            print(\"Your are not eligible for marriage\")\n",
    "            agevar='Your are not eligible for marriage'\n",
    "    else:\n",
    "        if(age>=18):\n",
    "            print(\"Your are eligible for marriage\")\n",
    "            agevar='Your are eligible for marriage'\n",
    "        else:\n",
    "            print(\"Your are not eligible for marriage\")\n",
    "            agevar='Your are not eligible for marriage'\n",
    "        \n",
    "            return agevar        \n",
    "        \n"
   ]
  },
  {
   "cell_type": "code",
   "execution_count": 11,
   "id": "f7d3107d",
   "metadata": {},
   "outputs": [
    {
     "name": "stdout",
     "output_type": "stream",
     "text": [
      "Enter your gender : female\n",
      "Enter your age : 14\n",
      "Your are not eligible for marriage\n"
     ]
    }
   ],
   "source": [
    "mrngage=eligible()\n"
   ]
  },
  {
   "cell_type": "code",
   "execution_count": 13,
   "id": "f7ade67f",
   "metadata": {},
   "outputs": [
    {
     "name": "stdout",
     "output_type": "stream",
     "text": [
      "Enter tamil mark : 85\n",
      "Enter english mark : 86\n",
      "Enter maths mark : 87\n",
      "Enter science mark : 88\n",
      "Enter social mark : 89\n",
      "Your total marks :  435\n",
      "Your percentage :  87.0\n"
     ]
    }
   ],
   "source": [
    "tam=int(input(\"Enter tamil mark : \"))\n",
    "eng=int(input(\"Enter english mark : \"))\n",
    "mat=int(input(\"Enter maths mark : \"))\n",
    "sci=int(input(\"Enter science mark : \"))\n",
    "soc=int(input(\"Enter social mark : \"))\n",
    "total=tam+eng+mat+sci+soc\n",
    "per=total/5\n",
    "print(\"Your total marks : \",total)\n",
    "print(\"Your percentage : \",per)\n"
   ]
  },
  {
   "cell_type": "code",
   "execution_count": 14,
   "id": "363910ca",
   "metadata": {},
   "outputs": [],
   "source": [
    "# Calculate percentage of your 10th mark"
   ]
  },
  {
   "cell_type": "code",
   "execution_count": 15,
   "id": "226a6032",
   "metadata": {},
   "outputs": [],
   "source": [
    "def percentage():\n",
    "    tam=int(input(\"Enter tamil mark : \"))\n",
    "    eng=int(input(\"Enter english mark : \"))\n",
    "    mat=int(input(\"Enter maths mark : \"))\n",
    "    sci=int(input(\"Enter science mark : \"))\n",
    "    soc=int(input(\"Enter social mark : \"))\n",
    "    tot=tam+eng+mat+sci+soc\n",
    "    per=total/5\n",
    "    print(\"Your total marks : \",tot)\n",
    "    print(\"Your percentage : \",per)\n",
    "    return per"
   ]
  },
  {
   "cell_type": "code",
   "execution_count": 16,
   "id": "25508a10",
   "metadata": {},
   "outputs": [
    {
     "name": "stdout",
     "output_type": "stream",
     "text": [
      "Enter tamil mark : 98\n",
      "Enter english mark : 97\n",
      "Enter maths mark : 98\n",
      "Enter science mark : 94\n",
      "Enter social mark : 95\n",
      "Your total marks :  482\n",
      "Your percentage :  87.0\n"
     ]
    },
    {
     "data": {
      "text/plain": [
       "87.0"
      ]
     },
     "execution_count": 16,
     "metadata": {},
     "output_type": "execute_result"
    }
   ],
   "source": [
    "percentage()"
   ]
  },
  {
   "cell_type": "code",
   "execution_count": 17,
   "id": "7f8059f3",
   "metadata": {},
   "outputs": [],
   "source": [
    "# Area and perimeter of a triangle"
   ]
  },
  {
   "cell_type": "code",
   "execution_count": 21,
   "id": "d7528938",
   "metadata": {},
   "outputs": [
    {
     "name": "stdout",
     "output_type": "stream",
     "text": [
      "Length : 2\n",
      "Height : 3\n",
      "Breath : 4\n",
      "Area Formula : (Height*breath)/2\n",
      "Area of trianlge :  6.0\n",
      "Perimeter formula :length*breath*height\n",
      "Perimeter of triangle :  24\n"
     ]
    }
   ],
   "source": [
    "length=int(input(\"Length : \"))\n",
    "height=int(input(\"Height : \"))\n",
    "breath=int(input(\"Breath : \"))\n",
    "area=(height*breath)/2\n",
    "print(\"Area Formula : (Height*breath)/2\")\n",
    "print(\"Area of trianlge : \",area)\n",
    "perimeter=length*breath*height\n",
    "print(\"Perimeter formula :length*breath*height\")\n",
    "print (\"Perimeter of triangle : \",perimeter)\n"
   ]
  },
  {
   "cell_type": "code",
   "execution_count": 22,
   "id": "e8746f20",
   "metadata": {},
   "outputs": [],
   "source": [
    "def triangle():\n",
    "    length=int(input(\"Length : \"))\n",
    "    height=int(input(\"Height : \"))\n",
    "    breath=int(input(\"Breath : \"))\n",
    "    area=(height*breath)/2\n",
    "    print(\"Area Formula : (Height*breath)/2\")\n",
    "    print(\"Area of trianlge : \",area)\n",
    "    perimeter=length*breath*height\n",
    "    print(\"Perimeter formula :length*breath*height\")\n",
    "    print (\"Perimeter of triangle : \",perimeter)\n",
    "    return perimeter\n",
    "\n",
    "    "
   ]
  },
  {
   "cell_type": "code",
   "execution_count": 23,
   "id": "181d1705",
   "metadata": {},
   "outputs": [
    {
     "name": "stdout",
     "output_type": "stream",
     "text": [
      "Length : 12\n",
      "Height : 16\n",
      "Breath : 14\n",
      "Area Formula : (Height*breath)/2\n",
      "Area of trianlge :  112.0\n",
      "Perimeter formula :length*breath*height\n",
      "Perimeter of triangle :  2688\n"
     ]
    },
    {
     "data": {
      "text/plain": [
       "2688"
      ]
     },
     "execution_count": 23,
     "metadata": {},
     "output_type": "execute_result"
    }
   ],
   "source": [
    "triangle()"
   ]
  },
  {
   "cell_type": "code",
   "execution_count": null,
   "id": "41f999e0",
   "metadata": {},
   "outputs": [],
   "source": []
  }
 ],
 "metadata": {
  "kernelspec": {
   "display_name": "Python 3 (ipykernel)",
   "language": "python",
   "name": "python3"
  },
  "language_info": {
   "codemirror_mode": {
    "name": "ipython",
    "version": 3
   },
   "file_extension": ".py",
   "mimetype": "text/x-python",
   "name": "python",
   "nbconvert_exporter": "python",
   "pygments_lexer": "ipython3",
   "version": "3.10.9"
  }
 },
 "nbformat": 4,
 "nbformat_minor": 5
}
